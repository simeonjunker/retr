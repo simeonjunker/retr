{
 "cells": [
  {
   "cell_type": "code",
   "execution_count": null,
   "metadata": {},
   "outputs": [],
   "source": [
    "import os\n",
    "import os.path as osp\n",
    "import pandas as pd\n",
    "import json\n",
    "import matplotlib.pyplot as plt\n",
    "import sys\n",
    "from collections import defaultdict\n",
    "from utils import display_target_distractors, parse_filename\n",
    "sys.path.append('./..')\n",
    "from configuration import Config\n",
    "from datasets.utils import get_refcoco_df"
   ]
  },
  {
   "cell_type": "code",
   "execution_count": null,
   "metadata": {},
   "outputs": [],
   "source": [
    "split = 'val'"
   ]
  },
  {
   "cell_type": "code",
   "execution_count": null,
   "metadata": {},
   "outputs": [],
   "source": [
    "# prepare config and refcoco df\n",
    "\n",
    "config = Config()\n",
    "\n",
    "refcoco_df = get_refcoco_df(config.ref_dir)\n",
    "\n",
    "refcoco_df = refcoco_df.reset_index().groupby('ann_id').agg({\n",
    "    'sent_id': list, 'caption': list, \n",
    "    'ref_id': 'first', 'refcoco_split': 'first', \n",
    "    'coco_split': 'first', 'image_id': 'first', \n",
    "    'bbox': 'first'\n",
    "}).reset_index()"
   ]
  },
  {
   "cell_type": "code",
   "execution_count": null,
   "metadata": {},
   "outputs": [],
   "source": [
    "# get available files\n",
    "\n",
    "data_path = osp.abspath('./../data/results/')\n",
    "\n",
    "metric_files = sorted([f for f in os.listdir(data_path) if f.endswith('eval.json')])\n",
    "expression_files = sorted([f for f in os.listdir(data_path) if f.endswith('generated.json')])"
   ]
  },
  {
   "cell_type": "code",
   "execution_count": null,
   "metadata": {},
   "outputs": [],
   "source": [
    "# aggregate quantitative results\n",
    "\n",
    "series = []\n",
    "\n",
    "condition, epoch, split, noise_level = parse_filename(metric_files[1])\n",
    "for filename in metric_files:\n",
    "    condition, epoch, split, noise_level = parse_filename(filename)\n",
    "    \n",
    "    with open(osp.join(data_path, filename)) as f:\n",
    "        data = json.load(f)\n",
    "\n",
    "    s = pd.Series({\n",
    "        'condition': condition,\n",
    "        'epoch': epoch,\n",
    "        'split': split,\n",
    "        'noise_level': noise_level,\n",
    "        'Bleu_1': data['Bleu_1'],\n",
    "        'Bleu_2': data['Bleu_2'],\n",
    "        'Bleu_3': data['Bleu_3'],\n",
    "        'Bleu_4': data['Bleu_4'],\n",
    "        'METEOR': data['METEOR'],\n",
    "        'ROUGE_L': data['ROUGE_L'],\n",
    "        'CIDEr': data['CIDEr'],\n",
    "    })\n",
    "\n",
    "    series.append(s)\n",
    "\n",
    "metrics_df = pd.concat(series, axis=1).T\n",
    "metrics_df.index = metrics_df.apply(lambda x: f'{x.condition}_{x.noise_level}', axis=1)"
   ]
  },
  {
   "cell_type": "code",
   "execution_count": null,
   "metadata": {},
   "outputs": [],
   "source": [
    "# plot CIDEr scores\n",
    "\n",
    "for condition in ['loc', 'loc_glob']:\n",
    "    metrics_df.loc[metrics_df.condition==condition].sort_values(by='noise_level').set_index('noise_level')['CIDEr'].plot(label=condition)\n",
    "plt.grid(linestyle='dotted')\n",
    "plt.xticks(sorted(pd.unique(metrics_df.noise_level)))\n",
    "plt.xlabel('Noise Level')\n",
    "plt.ylabel('CIDEr')\n",
    "plt.legend()"
   ]
  },
  {
   "cell_type": "code",
   "execution_count": null,
   "metadata": {},
   "outputs": [],
   "source": [
    "# aggregate generated expressions for refcoco annotation ids\n",
    "\n",
    "expressions = defaultdict(dict)\n",
    "\n",
    "for file in expression_files:\n",
    "\n",
    "    fpath = osp.join(data_path, file)\n",
    "    condition, _, _, noise_level = parse_filename(file)\n",
    "    condition_key = f'{condition}_{noise_level}'\n",
    "\n",
    "    with open(fpath) as f:\n",
    "        this_file_data = json.load(f)\n",
    "\n",
    "    for entry in this_file_data:\n",
    "        expressions[entry['ann_id']][condition_key] = entry['expression']"
   ]
  },
  {
   "cell_type": "code",
   "execution_count": null,
   "metadata": {},
   "outputs": [],
   "source": [
    "sample = refcoco_df.loc[refcoco_df.refcoco_split == split].sample(100,replace=False,random_state=42)"
   ]
  },
  {
   "cell_type": "code",
   "execution_count": null,
   "metadata": {},
   "outputs": [],
   "source": [
    "for i in range(len(sample)):\n",
    "      entry = sample.iloc[i]\n",
    "\n",
    "      idx = entry.name\n",
    "      ann_id = entry.ann_id\n",
    "      anns = entry.caption\n",
    "\n",
    "      print(f'ann_id: {ann_id}', \n",
    "            'Annotations:', \n",
    "            *['\\t'+ann for ann in anns], \n",
    "            sep='\\n')\n",
    "\n",
    "      display_target_distractors(entry_id=idx, refcoco_data=refcoco_df, coco_base=config.dir)\n",
    "\n",
    "      for condition in sorted(expressions[ann_id].keys()):\n",
    "            print(f'{condition.ljust(14)}: {expressions[ann_id][condition]}')\n",
    "\n",
    "      print('\\n---------\\n')"
   ]
  }
 ],
 "metadata": {
  "kernelspec": {
   "display_name": "transformers",
   "language": "python",
   "name": "transformers"
  },
  "language_info": {
   "codemirror_mode": {
    "name": "ipython",
    "version": 3
   },
   "file_extension": ".py",
   "mimetype": "text/x-python",
   "name": "python",
   "nbconvert_exporter": "python",
   "pygments_lexer": "ipython3",
   "version": "3.10.9"
  },
  "orig_nbformat": 4
 },
 "nbformat": 4,
 "nbformat_minor": 2
}
